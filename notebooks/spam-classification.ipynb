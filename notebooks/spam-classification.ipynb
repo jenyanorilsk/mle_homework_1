{
 "cells": [
  {
   "cell_type": "code",
   "execution_count": null,
   "metadata": {},
   "outputs": [],
   "source": []
  }
 ],
 "metadata": {
  "kernelspec": {
   "display_name": "Python 3.10.6 ('mle')",
   "language": "python",
   "name": "python3"
  },
  "language_info": {
   "name": "python",
   "version": "3.10.6"
  },
  "orig_nbformat": 4,
  "vscode": {
   "interpreter": {
    "hash": "7e92c5516420bba3014e3e5d769d21d4114bac9e786367f99c3248e7f2a6c80f"
   }
  }
 },
 "nbformat": 4,
 "nbformat_minor": 2
}
